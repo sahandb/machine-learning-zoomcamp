{
 "cells": [
  {
   "cell_type": "code",
   "execution_count": 61,
   "id": "61bb31ad",
   "metadata": {},
   "outputs": [
    {
     "data": {
      "application/vnd.microsoft.datawrangler.viewer.v0+json": {
       "columns": [
        {
         "name": "index",
         "rawType": "int64",
         "type": "integer"
        },
        {
         "name": "lead_source",
         "rawType": "object",
         "type": "unknown"
        },
        {
         "name": "industry",
         "rawType": "object",
         "type": "unknown"
        },
        {
         "name": "number_of_courses_viewed",
         "rawType": "int64",
         "type": "integer"
        },
        {
         "name": "annual_income",
         "rawType": "float64",
         "type": "float"
        },
        {
         "name": "employment_status",
         "rawType": "object",
         "type": "unknown"
        },
        {
         "name": "location",
         "rawType": "object",
         "type": "unknown"
        },
        {
         "name": "interaction_count",
         "rawType": "int64",
         "type": "integer"
        },
        {
         "name": "lead_score",
         "rawType": "float64",
         "type": "float"
        },
        {
         "name": "converted",
         "rawType": "int64",
         "type": "integer"
        }
       ],
       "ref": "254875f3-07f6-47fa-aad2-1e82cf5d2161",
       "rows": [
        [
         "0",
         "paid_ads",
         null,
         "1",
         "79450.0",
         "unemployed",
         "south_america",
         "4",
         "0.94",
         "1"
        ],
        [
         "1",
         "social_media",
         "retail",
         "1",
         "46992.0",
         "employed",
         "south_america",
         "1",
         "0.8",
         "0"
        ],
        [
         "2",
         "events",
         "healthcare",
         "5",
         "78796.0",
         "unemployed",
         "australia",
         "3",
         "0.69",
         "1"
        ],
        [
         "3",
         "paid_ads",
         "retail",
         "2",
         "83843.0",
         null,
         "australia",
         "1",
         "0.87",
         "0"
        ],
        [
         "4",
         "referral",
         "education",
         "3",
         "85012.0",
         "self_employed",
         "europe",
         "3",
         "0.62",
         "1"
        ],
        [
         "5",
         "events",
         "manufacturing",
         "1",
         "59904.0",
         null,
         "africa",
         "6",
         "0.83",
         "1"
        ],
        [
         "6",
         "social_media",
         "technology",
         "0",
         "51283.0",
         null,
         "middle_east",
         "2",
         "0.57",
         "0"
        ],
        [
         "7",
         "social_media",
         null,
         "5",
         "62975.0",
         "student",
         "europe",
         "4",
         "0.62",
         "1"
        ],
        [
         "8",
         "referral",
         "healthcare",
         "4",
         "38648.0",
         "unemployed",
         "south_america",
         "2",
         "0.86",
         "1"
        ],
        [
         "9",
         "paid_ads",
         "other",
         "3",
         "59866.0",
         "student",
         "australia",
         "3",
         "0.43",
         "1"
        ],
        [
         "10",
         "paid_ads",
         "retail",
         "2",
         "79276.0",
         "employed",
         "middle_east",
         "2",
         "0.92",
         "1"
        ],
        [
         "11",
         "organic_search",
         "finance",
         "4",
         "80304.0",
         "self_employed",
         null,
         "3",
         "0.97",
         "1"
        ],
        [
         "12",
         "organic_search",
         null,
         "2",
         "55615.0",
         "self_employed",
         "middle_east",
         "6",
         "0.71",
         "1"
        ],
        [
         "13",
         "social_media",
         "other",
         "3",
         "55438.0",
         null,
         "middle_east",
         "1",
         "0.69",
         "0"
        ],
        [
         "14",
         "paid_ads",
         "healthcare",
         "3",
         null,
         "unemployed",
         "middle_east",
         "4",
         "0.75",
         "1"
        ],
        [
         "15",
         "referral",
         "healthcare",
         "2",
         "56004.0",
         "student",
         "middle_east",
         "0",
         "0.64",
         "0"
        ],
        [
         "16",
         "referral",
         "retail",
         "0",
         "54612.0",
         "self_employed",
         "europe",
         "4",
         "0.86",
         "1"
        ],
        [
         "17",
         "referral",
         "other",
         "2",
         "92470.0",
         "unemployed",
         "europe",
         "4",
         "0.74",
         "1"
        ],
        [
         "18",
         "referral",
         "manufacturing",
         "2",
         "74380.0",
         "self_employed",
         null,
         "5",
         "0.51",
         "1"
        ],
        [
         "19",
         "paid_ads",
         null,
         "2",
         "62809.0",
         "self_employed",
         "europe",
         "5",
         "0.33",
         "1"
        ],
        [
         "20",
         "social_media",
         "technology",
         "4",
         "62067.0",
         "student",
         "north_america",
         "4",
         "0.43",
         "1"
        ],
        [
         "21",
         "social_media",
         "retail",
         "2",
         "56594.0",
         "student",
         "europe",
         "1",
         "0.2",
         "0"
        ],
        [
         "22",
         "referral",
         "other",
         "3",
         "72729.0",
         "student",
         "middle_east",
         "3",
         "0.6",
         "1"
        ],
        [
         "23",
         "events",
         "retail",
         "1",
         "94862.0",
         "unemployed",
         "africa",
         "5",
         "0.49",
         "1"
        ],
        [
         "24",
         "organic_search",
         "education",
         "0",
         "68182.0",
         "employed",
         "south_america",
         "4",
         "0.55",
         "1"
        ],
        [
         "25",
         "organic_search",
         "finance",
         "0",
         "51159.0",
         "employed",
         "europe",
         "1",
         "0.68",
         "0"
        ],
        [
         "26",
         "referral",
         "healthcare",
         "2",
         "46268.0",
         "employed",
         "north_america",
         "3",
         "0.63",
         "1"
        ],
        [
         "27",
         "social_media",
         "other",
         "3",
         "63133.0",
         "unemployed",
         "north_america",
         "3",
         "0.82",
         "1"
        ],
        [
         "28",
         "referral",
         "other",
         "2",
         "57767.0",
         "student",
         "europe",
         "3",
         "0.2",
         "1"
        ],
        [
         "29",
         "referral",
         "finance",
         "1",
         "73420.0",
         "unemployed",
         null,
         "3",
         "0.48",
         "1"
        ],
        [
         "30",
         "paid_ads",
         "finance",
         "4",
         "60617.0",
         "self_employed",
         "north_america",
         "0",
         "0.54",
         "1"
        ],
        [
         "31",
         "events",
         "other",
         "1",
         "66476.0",
         "self_employed",
         "africa",
         "0",
         "0.46",
         "0"
        ],
        [
         "32",
         "referral",
         null,
         "5",
         "43704.0",
         "employed",
         "australia",
         "4",
         "0.26",
         "1"
        ],
        [
         "33",
         "events",
         "healthcare",
         "3",
         "54547.0",
         "employed",
         "africa",
         "3",
         "0.9",
         "1"
        ],
        [
         "34",
         "events",
         "other",
         "3",
         "59157.0",
         "student",
         "south_america",
         "2",
         "0.79",
         "0"
        ],
        [
         "35",
         "organic_search",
         null,
         "4",
         "63220.0",
         "unemployed",
         "north_america",
         "4",
         "0.21",
         "1"
        ],
        [
         "36",
         "organic_search",
         "healthcare",
         "1",
         "54186.0",
         null,
         "north_america",
         "2",
         "0.87",
         "0"
        ],
        [
         "37",
         null,
         "other",
         "1",
         "51207.0",
         "student",
         "middle_east",
         "0",
         "0.52",
         "0"
        ],
        [
         "38",
         "social_media",
         "healthcare",
         "5",
         "85005.0",
         null,
         "asia",
         "0",
         "0.49",
         "1"
        ],
        [
         "39",
         null,
         "other",
         "5",
         "67314.0",
         null,
         "europe",
         "2",
         "0.87",
         "1"
        ],
        [
         "40",
         "social_media",
         "healthcare",
         "1",
         "78509.0",
         "student",
         "north_america",
         "5",
         "0.75",
         "1"
        ],
        [
         "41",
         null,
         "manufacturing",
         "6",
         "59886.0",
         "employed",
         "asia",
         "5",
         "0.82",
         "1"
        ],
        [
         "42",
         "paid_ads",
         "retail",
         "2",
         "65854.0",
         "employed",
         "africa",
         "3",
         "0.81",
         "1"
        ],
        [
         "43",
         "social_media",
         "healthcare",
         "1",
         "61602.0",
         "student",
         "middle_east",
         "5",
         "0.06",
         "0"
        ],
        [
         "44",
         "social_media",
         "technology",
         "3",
         "63854.0",
         "employed",
         "africa",
         "1",
         "0.1",
         "0"
        ],
        [
         "45",
         "social_media",
         "education",
         "2",
         "47767.0",
         "unemployed",
         "europe",
         "1",
         "0.02",
         "0"
        ],
        [
         "46",
         "social_media",
         "education",
         "2",
         "60886.0",
         "student",
         "asia",
         "1",
         "0.15",
         "0"
        ],
        [
         "47",
         null,
         "other",
         "2",
         "57246.0",
         "self_employed",
         "asia",
         "1",
         "0.27",
         "1"
        ],
        [
         "48",
         "events",
         null,
         "4",
         "40529.0",
         "student",
         "north_america",
         "5",
         "0.21",
         "1"
        ],
        [
         "49",
         "events",
         null,
         "3",
         "53077.0",
         "unemployed",
         "north_america",
         "4",
         "0.08",
         "1"
        ]
       ],
       "shape": {
        "columns": 9,
        "rows": 1462
       }
      },
      "text/html": [
       "<div>\n",
       "<style scoped>\n",
       "    .dataframe tbody tr th:only-of-type {\n",
       "        vertical-align: middle;\n",
       "    }\n",
       "\n",
       "    .dataframe tbody tr th {\n",
       "        vertical-align: top;\n",
       "    }\n",
       "\n",
       "    .dataframe thead th {\n",
       "        text-align: right;\n",
       "    }\n",
       "</style>\n",
       "<table border=\"1\" class=\"dataframe\">\n",
       "  <thead>\n",
       "    <tr style=\"text-align: right;\">\n",
       "      <th></th>\n",
       "      <th>lead_source</th>\n",
       "      <th>industry</th>\n",
       "      <th>number_of_courses_viewed</th>\n",
       "      <th>annual_income</th>\n",
       "      <th>employment_status</th>\n",
       "      <th>location</th>\n",
       "      <th>interaction_count</th>\n",
       "      <th>lead_score</th>\n",
       "      <th>converted</th>\n",
       "    </tr>\n",
       "  </thead>\n",
       "  <tbody>\n",
       "    <tr>\n",
       "      <th>0</th>\n",
       "      <td>paid_ads</td>\n",
       "      <td>NaN</td>\n",
       "      <td>1</td>\n",
       "      <td>79450.0</td>\n",
       "      <td>unemployed</td>\n",
       "      <td>south_america</td>\n",
       "      <td>4</td>\n",
       "      <td>0.94</td>\n",
       "      <td>1</td>\n",
       "    </tr>\n",
       "    <tr>\n",
       "      <th>1</th>\n",
       "      <td>social_media</td>\n",
       "      <td>retail</td>\n",
       "      <td>1</td>\n",
       "      <td>46992.0</td>\n",
       "      <td>employed</td>\n",
       "      <td>south_america</td>\n",
       "      <td>1</td>\n",
       "      <td>0.80</td>\n",
       "      <td>0</td>\n",
       "    </tr>\n",
       "    <tr>\n",
       "      <th>2</th>\n",
       "      <td>events</td>\n",
       "      <td>healthcare</td>\n",
       "      <td>5</td>\n",
       "      <td>78796.0</td>\n",
       "      <td>unemployed</td>\n",
       "      <td>australia</td>\n",
       "      <td>3</td>\n",
       "      <td>0.69</td>\n",
       "      <td>1</td>\n",
       "    </tr>\n",
       "    <tr>\n",
       "      <th>3</th>\n",
       "      <td>paid_ads</td>\n",
       "      <td>retail</td>\n",
       "      <td>2</td>\n",
       "      <td>83843.0</td>\n",
       "      <td>NaN</td>\n",
       "      <td>australia</td>\n",
       "      <td>1</td>\n",
       "      <td>0.87</td>\n",
       "      <td>0</td>\n",
       "    </tr>\n",
       "    <tr>\n",
       "      <th>4</th>\n",
       "      <td>referral</td>\n",
       "      <td>education</td>\n",
       "      <td>3</td>\n",
       "      <td>85012.0</td>\n",
       "      <td>self_employed</td>\n",
       "      <td>europe</td>\n",
       "      <td>3</td>\n",
       "      <td>0.62</td>\n",
       "      <td>1</td>\n",
       "    </tr>\n",
       "    <tr>\n",
       "      <th>...</th>\n",
       "      <td>...</td>\n",
       "      <td>...</td>\n",
       "      <td>...</td>\n",
       "      <td>...</td>\n",
       "      <td>...</td>\n",
       "      <td>...</td>\n",
       "      <td>...</td>\n",
       "      <td>...</td>\n",
       "      <td>...</td>\n",
       "    </tr>\n",
       "    <tr>\n",
       "      <th>1457</th>\n",
       "      <td>referral</td>\n",
       "      <td>manufacturing</td>\n",
       "      <td>1</td>\n",
       "      <td>NaN</td>\n",
       "      <td>self_employed</td>\n",
       "      <td>north_america</td>\n",
       "      <td>4</td>\n",
       "      <td>0.53</td>\n",
       "      <td>1</td>\n",
       "    </tr>\n",
       "    <tr>\n",
       "      <th>1458</th>\n",
       "      <td>referral</td>\n",
       "      <td>technology</td>\n",
       "      <td>3</td>\n",
       "      <td>65259.0</td>\n",
       "      <td>student</td>\n",
       "      <td>europe</td>\n",
       "      <td>2</td>\n",
       "      <td>0.24</td>\n",
       "      <td>1</td>\n",
       "    </tr>\n",
       "    <tr>\n",
       "      <th>1459</th>\n",
       "      <td>paid_ads</td>\n",
       "      <td>technology</td>\n",
       "      <td>1</td>\n",
       "      <td>45688.0</td>\n",
       "      <td>student</td>\n",
       "      <td>north_america</td>\n",
       "      <td>3</td>\n",
       "      <td>0.02</td>\n",
       "      <td>1</td>\n",
       "    </tr>\n",
       "    <tr>\n",
       "      <th>1460</th>\n",
       "      <td>referral</td>\n",
       "      <td>NaN</td>\n",
       "      <td>5</td>\n",
       "      <td>71016.0</td>\n",
       "      <td>self_employed</td>\n",
       "      <td>north_america</td>\n",
       "      <td>0</td>\n",
       "      <td>0.25</td>\n",
       "      <td>1</td>\n",
       "    </tr>\n",
       "    <tr>\n",
       "      <th>1461</th>\n",
       "      <td>organic_search</td>\n",
       "      <td>finance</td>\n",
       "      <td>3</td>\n",
       "      <td>92855.0</td>\n",
       "      <td>student</td>\n",
       "      <td>north_america</td>\n",
       "      <td>3</td>\n",
       "      <td>0.41</td>\n",
       "      <td>1</td>\n",
       "    </tr>\n",
       "  </tbody>\n",
       "</table>\n",
       "<p>1462 rows × 9 columns</p>\n",
       "</div>"
      ],
      "text/plain": [
       "         lead_source       industry  number_of_courses_viewed  annual_income  \\\n",
       "0           paid_ads            NaN                         1        79450.0   \n",
       "1       social_media         retail                         1        46992.0   \n",
       "2             events     healthcare                         5        78796.0   \n",
       "3           paid_ads         retail                         2        83843.0   \n",
       "4           referral      education                         3        85012.0   \n",
       "...              ...            ...                       ...            ...   \n",
       "1457        referral  manufacturing                         1            NaN   \n",
       "1458        referral     technology                         3        65259.0   \n",
       "1459        paid_ads     technology                         1        45688.0   \n",
       "1460        referral            NaN                         5        71016.0   \n",
       "1461  organic_search        finance                         3        92855.0   \n",
       "\n",
       "     employment_status       location  interaction_count  lead_score  \\\n",
       "0           unemployed  south_america                  4        0.94   \n",
       "1             employed  south_america                  1        0.80   \n",
       "2           unemployed      australia                  3        0.69   \n",
       "3                  NaN      australia                  1        0.87   \n",
       "4        self_employed         europe                  3        0.62   \n",
       "...                ...            ...                ...         ...   \n",
       "1457     self_employed  north_america                  4        0.53   \n",
       "1458           student         europe                  2        0.24   \n",
       "1459           student  north_america                  3        0.02   \n",
       "1460     self_employed  north_america                  0        0.25   \n",
       "1461           student  north_america                  3        0.41   \n",
       "\n",
       "      converted  \n",
       "0             1  \n",
       "1             0  \n",
       "2             1  \n",
       "3             0  \n",
       "4             1  \n",
       "...         ...  \n",
       "1457          1  \n",
       "1458          1  \n",
       "1459          1  \n",
       "1460          1  \n",
       "1461          1  \n",
       "\n",
       "[1462 rows x 9 columns]"
      ]
     },
     "execution_count": 61,
     "metadata": {},
     "output_type": "execute_result"
    }
   ],
   "source": [
    "import pandas as pd\n",
    "import numpy as np\n",
    "\n",
    "df = pd.read_csv(\"course_lead_scoring.csv\")\n",
    "df"
   ]
  },
  {
   "cell_type": "code",
   "execution_count": 62,
   "id": "df5a9b97",
   "metadata": {},
   "outputs": [
    {
     "data": {
      "application/vnd.microsoft.datawrangler.viewer.v0+json": {
       "columns": [
        {
         "name": "index",
         "rawType": "object",
         "type": "string"
        },
        {
         "name": "number_of_courses_viewed",
         "rawType": "float64",
         "type": "float"
        },
        {
         "name": "annual_income",
         "rawType": "float64",
         "type": "float"
        },
        {
         "name": "interaction_count",
         "rawType": "float64",
         "type": "float"
        },
        {
         "name": "lead_score",
         "rawType": "float64",
         "type": "float"
        },
        {
         "name": "converted",
         "rawType": "float64",
         "type": "float"
        }
       ],
       "ref": "c0a4950b-01a3-4d5e-85ac-422c6d522794",
       "rows": [
        [
         "count",
         "1462.0",
         "1281.0",
         "1462.0",
         "1462.0",
         "1462.0"
        ],
        [
         "mean",
         "2.0314637482900135",
         "59886.27322404372",
         "2.9767441860465116",
         "0.506108071135431",
         "0.6190150478796169"
        ],
        [
         "std",
         "1.449716785950001",
         "15070.14038909941",
         "1.681564349064551",
         "0.2884654042969836",
         "0.485795058563457"
        ],
        [
         "min",
         "0.0",
         "13929.0",
         "0.0",
         "0.0",
         "0.0"
        ],
        [
         "25%",
         "1.0",
         "49698.0",
         "2.0",
         "0.2625",
         "0.0"
        ],
        [
         "50%",
         "2.0",
         "60148.0",
         "3.0",
         "0.51",
         "1.0"
        ],
        [
         "75%",
         "3.0",
         "69639.0",
         "4.0",
         "0.75",
         "1.0"
        ],
        [
         "max",
         "9.0",
         "109899.0",
         "11.0",
         "1.0",
         "1.0"
        ]
       ],
       "shape": {
        "columns": 5,
        "rows": 8
       }
      },
      "text/html": [
       "<div>\n",
       "<style scoped>\n",
       "    .dataframe tbody tr th:only-of-type {\n",
       "        vertical-align: middle;\n",
       "    }\n",
       "\n",
       "    .dataframe tbody tr th {\n",
       "        vertical-align: top;\n",
       "    }\n",
       "\n",
       "    .dataframe thead th {\n",
       "        text-align: right;\n",
       "    }\n",
       "</style>\n",
       "<table border=\"1\" class=\"dataframe\">\n",
       "  <thead>\n",
       "    <tr style=\"text-align: right;\">\n",
       "      <th></th>\n",
       "      <th>number_of_courses_viewed</th>\n",
       "      <th>annual_income</th>\n",
       "      <th>interaction_count</th>\n",
       "      <th>lead_score</th>\n",
       "      <th>converted</th>\n",
       "    </tr>\n",
       "  </thead>\n",
       "  <tbody>\n",
       "    <tr>\n",
       "      <th>count</th>\n",
       "      <td>1462.000000</td>\n",
       "      <td>1281.000000</td>\n",
       "      <td>1462.000000</td>\n",
       "      <td>1462.000000</td>\n",
       "      <td>1462.000000</td>\n",
       "    </tr>\n",
       "    <tr>\n",
       "      <th>mean</th>\n",
       "      <td>2.031464</td>\n",
       "      <td>59886.273224</td>\n",
       "      <td>2.976744</td>\n",
       "      <td>0.506108</td>\n",
       "      <td>0.619015</td>\n",
       "    </tr>\n",
       "    <tr>\n",
       "      <th>std</th>\n",
       "      <td>1.449717</td>\n",
       "      <td>15070.140389</td>\n",
       "      <td>1.681564</td>\n",
       "      <td>0.288465</td>\n",
       "      <td>0.485795</td>\n",
       "    </tr>\n",
       "    <tr>\n",
       "      <th>min</th>\n",
       "      <td>0.000000</td>\n",
       "      <td>13929.000000</td>\n",
       "      <td>0.000000</td>\n",
       "      <td>0.000000</td>\n",
       "      <td>0.000000</td>\n",
       "    </tr>\n",
       "    <tr>\n",
       "      <th>25%</th>\n",
       "      <td>1.000000</td>\n",
       "      <td>49698.000000</td>\n",
       "      <td>2.000000</td>\n",
       "      <td>0.262500</td>\n",
       "      <td>0.000000</td>\n",
       "    </tr>\n",
       "    <tr>\n",
       "      <th>50%</th>\n",
       "      <td>2.000000</td>\n",
       "      <td>60148.000000</td>\n",
       "      <td>3.000000</td>\n",
       "      <td>0.510000</td>\n",
       "      <td>1.000000</td>\n",
       "    </tr>\n",
       "    <tr>\n",
       "      <th>75%</th>\n",
       "      <td>3.000000</td>\n",
       "      <td>69639.000000</td>\n",
       "      <td>4.000000</td>\n",
       "      <td>0.750000</td>\n",
       "      <td>1.000000</td>\n",
       "    </tr>\n",
       "    <tr>\n",
       "      <th>max</th>\n",
       "      <td>9.000000</td>\n",
       "      <td>109899.000000</td>\n",
       "      <td>11.000000</td>\n",
       "      <td>1.000000</td>\n",
       "      <td>1.000000</td>\n",
       "    </tr>\n",
       "  </tbody>\n",
       "</table>\n",
       "</div>"
      ],
      "text/plain": [
       "       number_of_courses_viewed  annual_income  interaction_count  \\\n",
       "count               1462.000000    1281.000000        1462.000000   \n",
       "mean                   2.031464   59886.273224           2.976744   \n",
       "std                    1.449717   15070.140389           1.681564   \n",
       "min                    0.000000   13929.000000           0.000000   \n",
       "25%                    1.000000   49698.000000           2.000000   \n",
       "50%                    2.000000   60148.000000           3.000000   \n",
       "75%                    3.000000   69639.000000           4.000000   \n",
       "max                    9.000000  109899.000000          11.000000   \n",
       "\n",
       "        lead_score    converted  \n",
       "count  1462.000000  1462.000000  \n",
       "mean      0.506108     0.619015  \n",
       "std       0.288465     0.485795  \n",
       "min       0.000000     0.000000  \n",
       "25%       0.262500     0.000000  \n",
       "50%       0.510000     1.000000  \n",
       "75%       0.750000     1.000000  \n",
       "max       1.000000     1.000000  "
      ]
     },
     "execution_count": 62,
     "metadata": {},
     "output_type": "execute_result"
    }
   ],
   "source": [
    "df.describe()"
   ]
  },
  {
   "cell_type": "code",
   "execution_count": 63,
   "id": "1451179e",
   "metadata": {},
   "outputs": [
    {
     "data": {
      "application/vnd.microsoft.datawrangler.viewer.v0+json": {
       "columns": [
        {
         "name": "index",
         "rawType": "object",
         "type": "string"
        },
        {
         "name": "0",
         "rawType": "int64",
         "type": "integer"
        }
       ],
       "ref": "48920cae-9597-4a46-9aeb-f0440ecd4113",
       "rows": [
        [
         "lead_source",
         "128"
        ],
        [
         "industry",
         "134"
        ],
        [
         "annual_income",
         "181"
        ],
        [
         "employment_status",
         "100"
        ],
        [
         "location",
         "63"
        ]
       ],
       "shape": {
        "columns": 1,
        "rows": 5
       }
      },
      "text/plain": [
       "lead_source          128\n",
       "industry             134\n",
       "annual_income        181\n",
       "employment_status    100\n",
       "location              63\n",
       "dtype: int64"
      ]
     },
     "execution_count": 63,
     "metadata": {},
     "output_type": "execute_result"
    }
   ],
   "source": [
    "missing_counts = df.isnull().sum()\n",
    "missing_columns = missing_counts[missing_counts > 0]\n",
    "missing_columns"
   ]
  },
  {
   "cell_type": "code",
   "execution_count": 64,
   "id": "afed664b",
   "metadata": {},
   "outputs": [
    {
     "data": {
      "text/plain": [
       "['lead_source', 'industry', 'annual_income', 'employment_status', 'location']"
      ]
     },
     "execution_count": 64,
     "metadata": {},
     "output_type": "execute_result"
    }
   ],
   "source": [
    "missing_cols = [c for c in df.columns if df[c].isnull().any()]\n",
    "missing_cols"
   ]
  },
  {
   "cell_type": "markdown",
   "id": "1103c64a",
   "metadata": {},
   "source": [
    "Data preparation\n",
    "\n",
    "    Check if the missing values are presented in the features.\n",
    "    If there are missing values:\n",
    "        For caterogiral features, replace them with 'NA'\n",
    "        For numerical features, replace with with 0.0"
   ]
  },
  {
   "cell_type": "code",
   "execution_count": 65,
   "id": "4f7a2478",
   "metadata": {},
   "outputs": [
    {
     "name": "stdout",
     "output_type": "stream",
     "text": [
      "Filled missing values for columns: ['lead_source', 'industry', 'annual_income', 'employment_status', 'location']\n",
      "Remaining missing values (should be none):\n",
      "Series([], dtype: int64)\n"
     ]
    },
    {
     "name": "stderr",
     "output_type": "stream",
     "text": [
      "/var/folders/mf/rdhh117n5g95h3nm4hzvkftc0000gn/T/ipykernel_15277/3299408368.py:14: FutureWarning: A value is trying to be set on a copy of a DataFrame or Series through chained assignment using an inplace method.\n",
      "The behavior will change in pandas 3.0. This inplace method will never work because the intermediate object on which we are setting values always behaves as a copy.\n",
      "\n",
      "For example, when doing 'df[col].method(value, inplace=True)', try using 'df.method({col: value}, inplace=True)' or df[col] = df[col].method(value) instead, to perform the operation inplace on the original object.\n",
      "\n",
      "\n",
      "  df[col].fillna('NA', inplace=True)\n",
      "/var/folders/mf/rdhh117n5g95h3nm4hzvkftc0000gn/T/ipykernel_15277/3299408368.py:12: FutureWarning: A value is trying to be set on a copy of a DataFrame or Series through chained assignment using an inplace method.\n",
      "The behavior will change in pandas 3.0. This inplace method will never work because the intermediate object on which we are setting values always behaves as a copy.\n",
      "\n",
      "For example, when doing 'df[col].method(value, inplace=True)', try using 'df.method({col: value}, inplace=True)' or df[col] = df[col].method(value) instead, to perform the operation inplace on the original object.\n",
      "\n",
      "\n",
      "  df[col].fillna(0.0, inplace=True)\n"
     ]
    }
   ],
   "source": [
    "from pandas.api.types import is_numeric_dtype\n",
    "\n",
    "# check for missing values and fill according to type:\n",
    "missing_cols = [c for c in df.columns if df[c].isnull().any()]\n",
    "\n",
    "if not missing_cols:\n",
    "    print(\"No missing values found.\")\n",
    "else:\n",
    "\n",
    "    for col in missing_cols:\n",
    "        if is_numeric_dtype(df[col]):\n",
    "            df[col].fillna(0.0, inplace=True)\n",
    "        else:\n",
    "            df[col].fillna('NA', inplace=True)\n",
    "\n",
    "    # update the helper summaries\n",
    "    missing_counts = df.isnull().sum()\n",
    "    missing_columns = missing_counts[missing_counts > 0]\n",
    "\n",
    "    print(\"Filled missing values for columns:\", missing_cols)\n",
    "    print(\"Remaining missing values (should be none):\")\n",
    "    print(missing_columns)"
   ]
  },
  {
   "cell_type": "markdown",
   "id": "7df9f65b",
   "metadata": {},
   "source": [
    "What is the most frequent observation (mode) for the column industry?\n",
    "\n",
    "    NA\n",
    "    technology\n",
    "    healthcare\n",
    "    retail\n"
   ]
  },
  {
   "cell_type": "code",
   "execution_count": 66,
   "id": "73014982",
   "metadata": {},
   "outputs": [
    {
     "data": {
      "text/plain": [
       "'retail'"
      ]
     },
     "execution_count": 66,
     "metadata": {},
     "output_type": "execute_result"
    }
   ],
   "source": [
    "industry_mode = df['industry'].mode()[0]\n",
    "industry_mode"
   ]
  },
  {
   "cell_type": "markdown",
   "id": "65db4bf5",
   "metadata": {},
   "source": [
    "Question 2\n",
    "\n",
    "Create the correlation matrix for the numerical features of your dataset. In a correlation matrix, you compute the correlation coefficient between every pair of features.\n",
    "\n",
    "What are the two features that have the biggest correlation?\n",
    "\n",
    "    interaction_count and lead_score\n",
    "    number_of_courses_viewed and lead_score\n",
    "    number_of_courses_viewed and interaction_count\n",
    "    annual_income and interaction_count\n",
    "\n",
    "Only consider the pairs above when answering this question.\n",
    "Split the data\n",
    "\n",
    "    Split your data in train/val/test sets with 60%/20%/20% distribution.\n",
    "    Use Scikit-Learn for that (the train_test_split function) and set the seed to 42.\n",
    "    Make sure that the target value y is not in your dataframe.\n"
   ]
  },
  {
   "cell_type": "code",
   "execution_count": 67,
   "id": "201a1694",
   "metadata": {},
   "outputs": [
    {
     "name": "stdout",
     "output_type": "stream",
     "text": [
      "Correlation matrix (numerical features):\n",
      "                          number_of_courses_viewed  annual_income  \\\n",
      "number_of_courses_viewed                  1.000000       0.009770   \n",
      "annual_income                             0.009770       1.000000   \n",
      "interaction_count                        -0.023565       0.027036   \n",
      "lead_score                               -0.004879       0.015610   \n",
      "converted                                 0.435914       0.053131   \n",
      "\n",
      "                          interaction_count  lead_score  converted  \n",
      "number_of_courses_viewed          -0.023565   -0.004879   0.435914  \n",
      "annual_income                      0.027036    0.015610   0.053131  \n",
      "interaction_count                  1.000000    0.009888   0.374573  \n",
      "lead_score                         0.009888    1.000000   0.193673  \n",
      "converted                          0.374573    0.193673   1.000000  \n",
      "\n",
      "Requested pair correlations:\n",
      "interaction_count vs lead_score: 0.009888182496913105\n",
      "number_of_courses_viewed vs lead_score: -0.004878998354681265\n",
      "number_of_courses_viewed vs interaction_count: -0.023565222882888055\n",
      "annual_income vs interaction_count: 0.027036472404814396\n",
      "\n",
      "Pair with the biggest correlation (by absolute value): ('annual_income', 'interaction_count') -> correlation = 0.027036472404814396\n"
     ]
    },
    {
     "data": {
      "image/png": "[encoded data removed]",
      "text/plain": [
       "<Figure size 1000x800 with 2 Axes>"
      ]
     },
     "metadata": {},
     "output_type": "display_data"
    },
    {
     "name": "stderr",
     "output_type": "stream",
     "text": [
      "/var/folders/mf/rdhh117n5g95h3nm4hzvkftc0000gn/T/ipykernel_15277/179419496.py:71: UserWarning: Tight layout not applied. The bottom and top margins cannot be made large enough to accommodate all Axes decorations.\n",
      "  plt.tight_layout()\n"
     ]
    },
    {
     "data": {
      "image/png": "[encoded data removed]",
      "text/plain": [
       "<Figure size 800x400 with 1 Axes>"
      ]
     },
     "metadata": {},
     "output_type": "display_data"
    },
    {
     "name": "stdout",
     "output_type": "stream",
     "text": [
      "\n",
      "Shapes:\n",
      "X_train, y_train: (877, 8) (877,)\n",
      "X_val,   y_val:   (292, 8) (292,)\n",
      "X_test,  y_test:  (293, 8) (293,)\n"
     ]
    }
   ],
   "source": [
    "from sklearn.model_selection import train_test_split\n",
    "\n",
    "import matplotlib.pyplot as plt\n",
    "\n",
    "# 1) Correlation matrix for numerical features\n",
    "num_df = df.select_dtypes(include=[np.number])\n",
    "corr = num_df.corr()\n",
    "print(\"Correlation matrix (numerical features):\")\n",
    "print(corr)\n",
    "\n",
    "# Evaluate only the specified pairs\n",
    "pairs = [\n",
    "    ('interaction_count', 'lead_score'),\n",
    "    ('number_of_courses_viewed', 'lead_score'),\n",
    "    ('number_of_courses_viewed', 'interaction_count'),\n",
    "    ('annual_income', 'interaction_count')\n",
    "]\n",
    "\n",
    "pair_corrs = {}\n",
    "for a, b in pairs:\n",
    "    if a in corr.index and b in corr.columns:\n",
    "        pair_corrs[(a, b)] = corr.loc[a, b]\n",
    "    else:\n",
    "        pair_corrs[(a, b)] = float('nan')\n",
    "\n",
    "print(\"\\nRequested pair correlations:\")\n",
    "for (a, b), val in pair_corrs.items():\n",
    "    print(f\"{a} vs {b}: {val}\")\n",
    "\n",
    "# Determine the pair with the largest absolute correlation (among the listed pairs)\n",
    "valid_items = {k: v for k, v in pair_corrs.items() if not np.isnan(v)}\n",
    "if valid_items:\n",
    "    best_pair, best_val = max(valid_items.items(), key=lambda kv: abs(kv[1]))\n",
    "    print(f\"\\nPair with the biggest correlation (by absolute value): {best_pair} -> correlation = {best_val}\")\n",
    "else:\n",
    "    print(\"\\nNone of the specified pairs are present in the numeric columns.\")\n",
    "\n",
    "# 2) Plot correlation matrix using pyplot (heatmap with annotations)\n",
    "plt.figure(figsize=(10, 8))\n",
    "im = plt.imshow(corr.values, cmap='RdBu', vmin=-1, vmax=1)\n",
    "plt.colorbar(im, fraction=0.046, pad=0.04)\n",
    "cols = corr.columns.tolist()\n",
    "plt.xticks(range(len(cols)), cols, rotation=90)\n",
    "plt.yticks(range(len(cols)), cols)\n",
    "# annotate values\n",
    "for i in range(corr.shape[0]):\n",
    "    for j in range(corr.shape[1]):\n",
    "        plt.text(j, i, f\"{corr.values[i, j]:.2f}\", ha='center', va='center', color='black', fontsize=8)\n",
    "plt.title(\"Correlation matrix (numerical features)\")\n",
    "plt.tight_layout()\n",
    "plt.show()\n",
    "\n",
    "# 3) Bar plot of the requested pair correlations (showing signed values)\n",
    "labels = [f\"{a} vs {b}\" for (a, b) in pairs]\n",
    "vals = [pair_corrs[(a, b)] for (a, b) in pairs]\n",
    "\n",
    "# Prepare plotting values, mark NaNs\n",
    "x = range(len(labels))\n",
    "plt.figure(figsize=(8, 4))\n",
    "bar_colors = ['tab:blue' if not np.isnan(v) else 'lightgray' for v in vals]\n",
    "# replace NaN with 0 for plotting but annotate as NaN\n",
    "plot_vals = [0.0 if np.isnan(v) else v for v in vals]\n",
    "bars = plt.bar(x, plot_vals, color=bar_colors)\n",
    "plt.axhline(0, color='k', linewidth=0.8)\n",
    "plt.xticks(x, labels, rotation=45, ha='right')\n",
    "plt.ylabel(\"Correlation coefficient\")\n",
    "for idx, v in enumerate(vals):\n",
    "    text = \"NaN\" if np.isnan(v) else f\"{v:.2f}\"\n",
    "    plt.text(idx, plot_vals[idx] + (0.02 if plot_vals[idx] >= 0 else -0.06), text, ha='center', va='bottom' if plot_vals[idx] >= 0 else 'top')\n",
    "plt.title(\"Requested pair correlations\")\n",
    "plt.tight_layout()\n",
    "plt.show()\n",
    "\n",
    "# 4) Split the data into train/val/test (60/20/20). Ensure target y is separated from X.\n",
    "target_name = 'lead_score'\n",
    "if target_name not in df.columns:\n",
    "    raise KeyError(f\"Target column '{target_name}' not found in dataframe.\")\n",
    "\n",
    "y = df[target_name]\n",
    "X = df.drop(columns=[target_name])\n",
    "\n",
    "# First split: train (60%) and temp (40%)\n",
    "X_train, X_temp, y_train, y_temp = train_test_split(X, y, test_size=0.4, random_state=42)\n",
    "\n",
    "# Second split: split temp into val (50% of temp => 20% total) and test (50% of temp => 20% total)\n",
    "X_val, X_test, y_val, y_test = train_test_split(X_temp, y_temp, test_size=0.5, random_state=42)\n",
    "\n",
    "print(\"\\nShapes:\")\n",
    "print(\"X_train, y_train:\", X_train.shape, y_train.shape)\n",
    "print(\"X_val,   y_val:  \", X_val.shape, y_val.shape)\n",
    "print(\"X_test,  y_test: \", X_test.shape, y_test.shape)\n",
    "\n",
    "# Sanity check: ensure target not present in feature dataframes\n",
    "assert target_name not in X_train.columns\n",
    "assert target_name not in X_val.columns\n",
    "assert target_name not in X_test.columns"
   ]
  },
  {
   "cell_type": "markdown",
   "id": "82077e3c",
   "metadata": {},
   "source": [
    "Question 3\n",
    "\n",
    "    Calculate the mutual information score between y and other categorical variables in the dataset. Use the training set only.\n",
    "    Round the scores to 2 decimals using round(score, 2).\n",
    "\n",
    "Which of these variables has the biggest mutual information score?\n",
    "\n",
    "    industry\n",
    "    location\n",
    "    lead_source\n",
    "    employment_status\n"
   ]
  },
  {
   "cell_type": "code",
   "execution_count": 68,
   "id": "0e7f73c9",
   "metadata": {},
   "outputs": [
    {
     "name": "stdout",
     "output_type": "stream",
     "text": [
      "\n",
      "Mutual information scores (training set):\n",
      "industry: 0\n",
      "location: 0.02\n",
      "lead_source: 0\n",
      "employment_status: 0.02\n",
      "\n",
      "Variable with the biggest mutual information score: location\n"
     ]
    }
   ],
   "source": [
    "from sklearn.feature_selection import mutual_info_regression\n",
    "from sklearn.preprocessing import LabelEncoder\n",
    "\n",
    "# candidate categorical variables to evaluate\n",
    "cats = ['industry', 'location', 'lead_source', 'employment_status']\n",
    "\n",
    "mi_scores = {}\n",
    "for col in cats:\n",
    "    if col not in X_train.columns:\n",
    "        mi_scores[col] = None\n",
    "        print(f\"Column '{col}' not found in training features.\")\n",
    "        continue\n",
    "    # encode categorical column (including any 'NA' placeholders)\n",
    "    enc = LabelEncoder()\n",
    "    col_encoded = enc.fit_transform(X_train[col].astype(str))\n",
    "    # mutual_info_regression returns an array; set discrete_features=True for categorical input\n",
    "    mi = mutual_info_regression(col_encoded.reshape(-1, 1), y_train, discrete_features=True, random_state=42)[0]\n",
    "    mi_scores[col] = round(mi, 2)\n",
    "\n",
    "print(\"\\nMutual information scores (training set):\")\n",
    "for col, score in mi_scores.items():\n",
    "    print(f\"{col}: {score}\")\n",
    "\n",
    "# determine the variable with the biggest MI (ignore None)\n",
    "valid_scores = {k: v for k, v in mi_scores.items() if v is not None}\n",
    "if valid_scores:\n",
    "    best_col = max(valid_scores.items(), key=lambda kv: kv[1])[0]\n",
    "    print(f\"\\nVariable with the biggest mutual information score: {best_col}\")\n",
    "else:\n",
    "    print(\"\\nNo valid categorical columns found to compute mutual information.\")"
   ]
  },
  {
   "cell_type": "code",
   "execution_count": 69,
   "id": "404ca082",
   "metadata": {},
   "outputs": [
    {
     "name": "stdout",
     "output_type": "stream",
     "text": [
      "Categorical columns: ['lead_source', 'industry', 'employment_status', 'location']\n"
     ]
    }
   ],
   "source": [
    "categorical_columns = df.select_dtypes(include=['object']).columns\n",
    "print(\"Categorical columns:\", list(categorical_columns))\n"
   ]
  },
  {
   "cell_type": "code",
   "execution_count": 70,
   "id": "65715854",
   "metadata": {},
   "outputs": [
    {
     "name": "stdout",
     "output_type": "stream",
     "text": [
      "Numerical columns: ['number_of_courses_viewed', 'annual_income', 'interaction_count', 'lead_score', 'converted']\n"
     ]
    }
   ],
   "source": [
    "numerical_columns = df.select_dtypes(include=[np.number]).columns\n",
    "print(\"Numerical columns:\", list(numerical_columns))"
   ]
  },
  {
   "cell_type": "markdown",
   "id": "0fceec29",
   "metadata": {},
   "source": [
    "Question 4\n",
    "\n",
    "    Now let's train a logistic regression.\n",
    "    Remember that we have several categorical variables in the dataset. Include them using one-hot encoding.\n",
    "    Fit the model on the training dataset.\n",
    "        To make sure the results are reproducible across different versions of Scikit-Learn, fit the model with these parameters:\n",
    "        model = LogisticRegression(solver='liblinear', C=1.0, max_iter=1000, random_state=42)\n",
    "    Calculate the accuracy on the validation dataset and round it to 2 decimal digits.\n",
    "\n",
    "What accuracy did you get?\n",
    "\n",
    "    0.64\n",
    "    0.74\n",
    "    0.84\n",
    "    0.94\n"
   ]
  },
  {
   "cell_type": "code",
   "execution_count": null,
   "id": "08fd86cb",
   "metadata": {},
   "outputs": [],
   "source": [
    "from sklearn.feature_extraction import DictVectorizer\n",
    "from sklearn.linear_model import LogisticRegression\n",
    "from sklearn.metrics import accuracy_score"
   ]
  },
  {
   "cell_type": "code",
   "execution_count": 88,
   "id": "0bfd778f",
   "metadata": {},
   "outputs": [
    {
     "name": "stdout",
     "output_type": "stream",
     "text": [
      "Validation accuracy: 0.60\n"
     ]
    }
   ],
   "source": [
    "\n",
    "categorical_columns = X_train.select_dtypes(include=['object']).columns\n",
    "numerical_columns = X_train.select_dtypes(include=[np.number]).columns\n",
    "\n",
    "train_dict = X_train[categorical_columns.tolist() + numerical_columns.tolist()].to_dict(orient='records')\n",
    "dv = DictVectorizer(sparse=False)\n",
    "dv.fit(train_dict)\n",
    "\n",
    "X_train_enc = dv.transform(X_train[categorical_columns.tolist() + numerical_columns.tolist()].to_dict(orient='records'))\n",
    "X_val_enc = dv.transform(X_val[categorical_columns.tolist() + numerical_columns.tolist()].to_dict(orient='records'))\n",
    "# Ensure target variable contains discrete class labels\n",
    "y_train = y_train.round().astype(int)\n",
    "y_val = y_val.round().astype(int)\n",
    "\n",
    "model = LogisticRegression(solver='liblinear', random_state=42)\n",
    "model.fit(X_train_enc, y_train)\n",
    "y_val_pred = model.predict(X_val_enc)\n",
    "val_accuracy = accuracy_score(y_val, y_val_pred)\n",
    "print(f\"Validation accuracy: {val_accuracy:.2f}\")"
   ]
  },
  {
   "cell_type": "markdown",
   "id": "d36de216",
   "metadata": {},
   "source": [
    "Question 5\n",
    "\n",
    "    Let's find the least useful feature using the feature elimination technique.\n",
    "    Train a model using the same features and parameters as in Q4 (without rounding).\n",
    "    Now exclude each feature from this set and train a model without it. Record the accuracy for each model.\n",
    "    For each feature, calculate the difference between the original accuracy and the accuracy without the feature.\n",
    "\n",
    "Which of following feature has the smallest difference?\n",
    "\n",
    "    'industry'\n",
    "    'employment_status'\n",
    "    'lead_score'\n",
    "\n",
    "    Note: The difference doesn't have to be positive.\n"
   ]
  },
  {
   "cell_type": "code",
   "execution_count": 89,
   "id": "31b309a1",
   "metadata": {},
   "outputs": [
    {
     "name": "stdout",
     "output_type": "stream",
     "text": [
      "Feature 'lead_score' not found in training features.\n",
      "\n",
      "Accuracy differences:\n",
      "industry: -0.0068\n",
      "employment_status: 0.0103\n",
      "lead_score: Not evaluated\n",
      "\n",
      "Feature with the smallest difference: industry\n"
     ]
    }
   ],
   "source": [
    "# Original accuracy from Q4\n",
    "original_accuracy = val_accuracy\n",
    "\n",
    "# Features to evaluate\n",
    "features_to_check = ['industry', 'employment_status', 'lead_score']\n",
    "\n",
    "# Dictionary to store accuracy differences\n",
    "accuracy_differences = {}\n",
    "\n",
    "for feature in features_to_check:\n",
    "    if feature not in X_train.columns:\n",
    "        print(f\"Feature '{feature}' not found in training features.\")\n",
    "        accuracy_differences[feature] = None\n",
    "        continue\n",
    "\n",
    "    # Drop the feature from the training and validation sets\n",
    "    X_train_reduced = X_train.drop(columns=[feature])\n",
    "    X_val_reduced = X_val.drop(columns=[feature])\n",
    "\n",
    "    # Encode the reduced datasets\n",
    "    train_dict_reduced = X_train_reduced.to_dict(orient='records')\n",
    "    val_dict_reduced = X_val_reduced.to_dict(orient='records')\n",
    "    X_train_enc_reduced = dv.transform(train_dict_reduced)\n",
    "    X_val_enc_reduced = dv.transform(val_dict_reduced)\n",
    "\n",
    "    # Train the model on the reduced dataset\n",
    "    model_reduced = LogisticRegression(solver='liblinear', random_state=42)\n",
    "    model_reduced.fit(X_train_enc_reduced, y_train)\n",
    "    y_val_pred_reduced = model_reduced.predict(X_val_enc_reduced)\n",
    "\n",
    "    # Calculate accuracy on the reduced validation set\n",
    "    reduced_accuracy = accuracy_score(y_val, y_val_pred_reduced)\n",
    "\n",
    "    # Calculate the difference in accuracy\n",
    "    accuracy_differences[feature] = original_accuracy - reduced_accuracy\n",
    "\n",
    "# Print the accuracy differences\n",
    "print(\"\\nAccuracy differences:\")\n",
    "for feature, diff in accuracy_differences.items():\n",
    "    print(f\"{feature}: {diff:.4f}\" if diff is not None else f\"{feature}: Not evaluated\")\n",
    "\n",
    "# Find the feature with the smallest difference\n",
    "valid_differences = {k: v for k, v in accuracy_differences.items() if v is not None}\n",
    "if valid_differences:\n",
    "    least_impactful_feature = min(valid_differences.items(), key=lambda kv: abs(kv[1]))[0]\n",
    "    print(f\"\\nFeature with the smallest difference: {least_impactful_feature}\")\n",
    "else:\n",
    "    print(\"\\nNo valid features were evaluated.\")"
   ]
  },
  {
   "cell_type": "markdown",
   "id": "4e411fde",
   "metadata": {},
   "source": []
  },
  {
   "cell_type": "markdown",
   "id": "7df8d9dc",
   "metadata": {},
   "source": [
    "Question 6\n",
    "\n",
    "    Now let's train a regularized logistic regression.\n",
    "    Let's try the following values of the parameter C: [0.01, 0.1, 1, 10, 100].\n",
    "    Train models using all the features as in Q4.\n",
    "    Calculate the accuracy on the validation dataset and round it to 3 decimal digits.\n",
    "\n",
    "Which of these C leads to the best accuracy on the validation set?\n",
    "\n",
    "    0.01\n",
    "    0.1\n",
    "    1\n",
    "    10\n",
    "    100\n",
    "\n"
   ]
  },
  {
   "cell_type": "code",
   "execution_count": 90,
   "id": "b09e12be",
   "metadata": {},
   "outputs": [
    {
     "name": "stdout",
     "output_type": "stream",
     "text": [
      "\n",
      "Validation accuracies for different values of C:\n",
      "C=0.01: 0.565\n",
      "C=0.1: 0.582\n",
      "C=1: 0.599\n",
      "C=10: 0.599\n",
      "C=100: 0.599\n",
      "\n",
      "Best C value: 1\n"
     ]
    }
   ],
   "source": [
    "# Values of C to evaluate\n",
    "C_values = [0.01, 0.1, 1, 10, 100]\n",
    "\n",
    "# Dictionary to store validation accuracies for each C\n",
    "validation_accuracies = {}\n",
    "\n",
    "for C in C_values:\n",
    "    # Train a logistic regression model with the given C\n",
    "    model = LogisticRegression(solver='liblinear', C=C, random_state=42)\n",
    "    model.fit(X_train_enc, y_train)\n",
    "    y_val_pred = model.predict(X_val_enc)\n",
    "\n",
    "    # Calculate accuracy on the validation set\n",
    "    val_accuracy = accuracy_score(y_val, y_val_pred)\n",
    "    validation_accuracies[C] = round(val_accuracy, 3)\n",
    "\n",
    "# Print the validation accuracies for each C\n",
    "print(\"\\nValidation accuracies for different values of C:\")\n",
    "for C, acc in validation_accuracies.items():\n",
    "    print(f\"C={C}: {acc}\")\n",
    "\n",
    "# Find the C value with the best accuracy\n",
    "best_C = max(validation_accuracies.items(), key=lambda kv: kv[1])[0]\n",
    "print(f\"\\nBest C value: {best_C}\")"
   ]
  }
 ],
 "metadata": {
  "kernelspec": {
   "display_name": "dataTalks",
   "language": "python",
   "name": "python3"
  },
  "language_info": {
   "codemirror_mode": {
    "name": "ipython",
    "version": 3
   },
   "file_extension": ".py",
   "mimetype": "text/x-python",
   "name": "python",
   "nbconvert_exporter": "python",
   "pygments_lexer": "ipython3",
   "version": "3.12.11"
  }
 },
 "nbformat": 4,
 "nbformat_minor": 5
}
