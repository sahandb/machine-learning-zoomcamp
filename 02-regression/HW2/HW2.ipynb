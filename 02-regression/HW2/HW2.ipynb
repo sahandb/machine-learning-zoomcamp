{
 "cells": [
  {
   "cell_type": "markdown",
   "id": "9a67cd63",
   "metadata": {},
   "source": [
    "The goal of this homework is to create a regression model for predicting the car fuel efficiency (column 'fuel_efficiency_mpg').\n",
    "Preparing the dataset\n",
    "\n",
    "Use only the following columns:\n",
    "\n",
    "    'engine_displacement',\n",
    "    'horsepower',\n",
    "    'vehicle_weight',\n",
    "    'model_year',\n",
    "    'fuel_efficiency_mpg'\n",
    "\n",
    "EDA\n",
    "\n",
    "    Look at the fuel_efficiency_mpg variable. Does it have a long tail?\n"
   ]
  },
  {
   "cell_type": "code",
   "execution_count": null,
   "id": "4543b534",
   "metadata": {},
   "outputs": [
    {
     "data": {
      "application/vnd.microsoft.datawrangler.viewer.v0+json": {
       "columns": [
        {
         "name": "index",
         "rawType": "int64",
         "type": "integer"
        },
        {
         "name": "engine_displacement",
         "rawType": "int64",
         "type": "integer"
        },
        {
         "name": "num_cylinders",
         "rawType": "float64",
         "type": "float"
        },
        {
         "name": "horsepower",
         "rawType": "float64",
         "type": "float"
        },
        {
         "name": "vehicle_weight",
         "rawType": "float64",
         "type": "float"
        },
        {
         "name": "acceleration",
         "rawType": "float64",
         "type": "float"
        },
        {
         "name": "model_year",
         "rawType": "int64",
         "type": "integer"
        },
        {
         "name": "origin",
         "rawType": "object",
         "type": "string"
        },
        {
         "name": "fuel_type",
         "rawType": "object",
         "type": "string"
        },
        {
         "name": "drivetrain",
         "rawType": "object",
         "type": "string"
        },
        {
         "name": "num_doors",
         "rawType": "float64",
         "type": "float"
        },
        {
         "name": "fuel_efficiency_mpg",
         "rawType": "float64",
         "type": "float"
        }
       ],
       "ref": "d1679313-4baf-4543-8ad4-7dc18b6fc3fb",
       "rows": [
        [
         "0",
         "170",
         "3.0",
         "159.0",
         "3413.433758606219",
         "17.7",
         "2003",
         "Europe",
         "Gasoline",
         "All-wheel drive",
         "0.0",
         "13.231728906241411"
        ],
        [
         "1",
         "130",
         "5.0",
         "97.0",
         "3149.6649342200353",
         "17.8",
         "2007",
         "USA",
         "Gasoline",
         "Front-wheel drive",
         "0.0",
         "13.688217435463793"
        ],
        [
         "2",
         "170",
         null,
         "78.0",
         "3079.03899736884",
         "15.1",
         "2018",
         "Europe",
         "Gasoline",
         "Front-wheel drive",
         "0.0",
         "14.246340998160866"
        ],
        [
         "3",
         "220",
         "4.0",
         null,
         "2542.392401828378",
         "20.2",
         "2009",
         "USA",
         "Diesel",
         "All-wheel drive",
         "2.0",
         "16.91273559598635"
        ],
        [
         "4",
         "210",
         "1.0",
         "140.0",
         "3460.870989989018",
         "14.4",
         "2009",
         "Europe",
         "Gasoline",
         "All-wheel drive",
         "2.0",
         "12.488369121964562"
        ]
       ],
       "shape": {
        "columns": 11,
        "rows": 5
       }
      },
      "text/html": [
       "<div>\n",
       "<style scoped>\n",
       "    .dataframe tbody tr th:only-of-type {\n",
       "        vertical-align: middle;\n",
       "    }\n",
       "\n",
       "    .dataframe tbody tr th {\n",
       "        vertical-align: top;\n",
       "    }\n",
       "\n",
       "    .dataframe thead th {\n",
       "        text-align: right;\n",
       "    }\n",
       "</style>\n",
       "<table border=\"1\" class=\"dataframe\">\n",
       "  <thead>\n",
       "    <tr style=\"text-align: right;\">\n",
       "      <th></th>\n",
       "      <th>engine_displacement</th>\n",
       "      <th>num_cylinders</th>\n",
       "      <th>horsepower</th>\n",
       "      <th>vehicle_weight</th>\n",
       "      <th>acceleration</th>\n",
       "      <th>model_year</th>\n",
       "      <th>origin</th>\n",
       "      <th>fuel_type</th>\n",
       "      <th>drivetrain</th>\n",
       "      <th>num_doors</th>\n",
       "      <th>fuel_efficiency_mpg</th>\n",
       "    </tr>\n",
       "  </thead>\n",
       "  <tbody>\n",
       "    <tr>\n",
       "      <th>0</th>\n",
       "      <td>170</td>\n",
       "      <td>3.0</td>\n",
       "      <td>159.0</td>\n",
       "      <td>3413.433759</td>\n",
       "      <td>17.7</td>\n",
       "      <td>2003</td>\n",
       "      <td>Europe</td>\n",
       "      <td>Gasoline</td>\n",
       "      <td>All-wheel drive</td>\n",
       "      <td>0.0</td>\n",
       "      <td>13.231729</td>\n",
       "    </tr>\n",
       "    <tr>\n",
       "      <th>1</th>\n",
       "      <td>130</td>\n",
       "      <td>5.0</td>\n",
       "      <td>97.0</td>\n",
       "      <td>3149.664934</td>\n",
       "      <td>17.8</td>\n",
       "      <td>2007</td>\n",
       "      <td>USA</td>\n",
       "      <td>Gasoline</td>\n",
       "      <td>Front-wheel drive</td>\n",
       "      <td>0.0</td>\n",
       "      <td>13.688217</td>\n",
       "    </tr>\n",
       "    <tr>\n",
       "      <th>2</th>\n",
       "      <td>170</td>\n",
       "      <td>NaN</td>\n",
       "      <td>78.0</td>\n",
       "      <td>3079.038997</td>\n",
       "      <td>15.1</td>\n",
       "      <td>2018</td>\n",
       "      <td>Europe</td>\n",
       "      <td>Gasoline</td>\n",
       "      <td>Front-wheel drive</td>\n",
       "      <td>0.0</td>\n",
       "      <td>14.246341</td>\n",
       "    </tr>\n",
       "    <tr>\n",
       "      <th>3</th>\n",
       "      <td>220</td>\n",
       "      <td>4.0</td>\n",
       "      <td>NaN</td>\n",
       "      <td>2542.392402</td>\n",
       "      <td>20.2</td>\n",
       "      <td>2009</td>\n",
       "      <td>USA</td>\n",
       "      <td>Diesel</td>\n",
       "      <td>All-wheel drive</td>\n",
       "      <td>2.0</td>\n",
       "      <td>16.912736</td>\n",
       "    </tr>\n",
       "    <tr>\n",
       "      <th>4</th>\n",
       "      <td>210</td>\n",
       "      <td>1.0</td>\n",
       "      <td>140.0</td>\n",
       "      <td>3460.870990</td>\n",
       "      <td>14.4</td>\n",
       "      <td>2009</td>\n",
       "      <td>Europe</td>\n",
       "      <td>Gasoline</td>\n",
       "      <td>All-wheel drive</td>\n",
       "      <td>2.0</td>\n",
       "      <td>12.488369</td>\n",
       "    </tr>\n",
       "  </tbody>\n",
       "</table>\n",
       "</div>"
      ],
      "text/plain": [
       "   engine_displacement  num_cylinders  horsepower  vehicle_weight  \\\n",
       "0                  170            3.0       159.0     3413.433759   \n",
       "1                  130            5.0        97.0     3149.664934   \n",
       "2                  170            NaN        78.0     3079.038997   \n",
       "3                  220            4.0         NaN     2542.392402   \n",
       "4                  210            1.0       140.0     3460.870990   \n",
       "\n",
       "   acceleration  model_year  origin fuel_type         drivetrain  num_doors  \\\n",
       "0          17.7        2003  Europe  Gasoline    All-wheel drive        0.0   \n",
       "1          17.8        2007     USA  Gasoline  Front-wheel drive        0.0   \n",
       "2          15.1        2018  Europe  Gasoline  Front-wheel drive        0.0   \n",
       "3          20.2        2009     USA    Diesel    All-wheel drive        2.0   \n",
       "4          14.4        2009  Europe  Gasoline    All-wheel drive        2.0   \n",
       "\n",
       "   fuel_efficiency_mpg  \n",
       "0            13.231729  \n",
       "1            13.688217  \n",
       "2            14.246341  \n",
       "3            16.912736  \n",
       "4            12.488369  "
      ]
     },
     "execution_count": 1,
     "metadata": {},
     "output_type": "execute_result"
    }
   ],
   "source": [
    "import pandas as pd\n",
    "\n",
    "df = pd.read_csv('car_fuel_efficiency.csv')\n",
    "df.head()\n"
   ]
  },
  {
   "cell_type": "code",
   "execution_count": 47,
   "id": "995fba07",
   "metadata": {},
   "outputs": [
    {
     "data": {
      "application/vnd.microsoft.datawrangler.viewer.v0+json": {
       "columns": [
        {
         "name": "index",
         "rawType": "int64",
         "type": "integer"
        },
        {
         "name": "engine_displacement",
         "rawType": "int64",
         "type": "integer"
        },
        {
         "name": "horsepower",
         "rawType": "float64",
         "type": "float"
        },
        {
         "name": "vehicle_weight",
         "rawType": "float64",
         "type": "float"
        },
        {
         "name": "model_year",
         "rawType": "int64",
         "type": "integer"
        },
        {
         "name": "fuel_efficiency_mpg",
         "rawType": "float64",
         "type": "float"
        }
       ],
       "ref": "4f997a99-6a45-4779-a81f-dc82f215e96f",
       "rows": [
        [
         "0",
         "170",
         "159.0",
         "3413.433758606219",
         "2003",
         "13.231728906241411"
        ],
        [
         "1",
         "130",
         "97.0",
         "3149.6649342200353",
         "2007",
         "13.688217435463793"
        ],
        [
         "2",
         "170",
         "78.0",
         "3079.03899736884",
         "2018",
         "14.246340998160866"
        ],
        [
         "3",
         "220",
         null,
         "2542.392401828378",
         "2009",
         "16.91273559598635"
        ],
        [
         "4",
         "210",
         "140.0",
         "3460.870989989018",
         "2009",
         "12.488369121964562"
        ]
       ],
       "shape": {
        "columns": 5,
        "rows": 5
       }
      },
      "text/html": [
       "<div>\n",
       "<style scoped>\n",
       "    .dataframe tbody tr th:only-of-type {\n",
       "        vertical-align: middle;\n",
       "    }\n",
       "\n",
       "    .dataframe tbody tr th {\n",
       "        vertical-align: top;\n",
       "    }\n",
       "\n",
       "    .dataframe thead th {\n",
       "        text-align: right;\n",
       "    }\n",
       "</style>\n",
       "<table border=\"1\" class=\"dataframe\">\n",
       "  <thead>\n",
       "    <tr style=\"text-align: right;\">\n",
       "      <th></th>\n",
       "      <th>engine_displacement</th>\n",
       "      <th>horsepower</th>\n",
       "      <th>vehicle_weight</th>\n",
       "      <th>model_year</th>\n",
       "      <th>fuel_efficiency_mpg</th>\n",
       "    </tr>\n",
       "  </thead>\n",
       "  <tbody>\n",
       "    <tr>\n",
       "      <th>0</th>\n",
       "      <td>170</td>\n",
       "      <td>159.0</td>\n",
       "      <td>3413.433759</td>\n",
       "      <td>2003</td>\n",
       "      <td>13.231729</td>\n",
       "    </tr>\n",
       "    <tr>\n",
       "      <th>1</th>\n",
       "      <td>130</td>\n",
       "      <td>97.0</td>\n",
       "      <td>3149.664934</td>\n",
       "      <td>2007</td>\n",
       "      <td>13.688217</td>\n",
       "    </tr>\n",
       "    <tr>\n",
       "      <th>2</th>\n",
       "      <td>170</td>\n",
       "      <td>78.0</td>\n",
       "      <td>3079.038997</td>\n",
       "      <td>2018</td>\n",
       "      <td>14.246341</td>\n",
       "    </tr>\n",
       "    <tr>\n",
       "      <th>3</th>\n",
       "      <td>220</td>\n",
       "      <td>NaN</td>\n",
       "      <td>2542.392402</td>\n",
       "      <td>2009</td>\n",
       "      <td>16.912736</td>\n",
       "    </tr>\n",
       "    <tr>\n",
       "      <th>4</th>\n",
       "      <td>210</td>\n",
       "      <td>140.0</td>\n",
       "      <td>3460.870990</td>\n",
       "      <td>2009</td>\n",
       "      <td>12.488369</td>\n",
       "    </tr>\n",
       "  </tbody>\n",
       "</table>\n",
       "</div>"
      ],
      "text/plain": [
       "   engine_displacement  horsepower  vehicle_weight  model_year  \\\n",
       "0                  170       159.0     3413.433759        2003   \n",
       "1                  130        97.0     3149.664934        2007   \n",
       "2                  170        78.0     3079.038997        2018   \n",
       "3                  220         NaN     2542.392402        2009   \n",
       "4                  210       140.0     3460.870990        2009   \n",
       "\n",
       "   fuel_efficiency_mpg  \n",
       "0            13.231729  \n",
       "1            13.688217  \n",
       "2            14.246341  \n",
       "3            16.912736  \n",
       "4            12.488369  "
      ]
     },
     "execution_count": 47,
     "metadata": {},
     "output_type": "execute_result"
    }
   ],
   "source": [
    "small_df = df[['engine_displacement', 'horsepower', 'vehicle_weight', 'model_year', 'fuel_efficiency_mpg']]\n",
    "small_df.head()"
   ]
  },
  {
   "cell_type": "code",
   "execution_count": 49,
   "id": "07b1b144",
   "metadata": {},
   "outputs": [
    {
     "data": {
      "image/png": "[encoded data removed]",
      "text/plain": [
       "<Figure size 800x500 with 1 Axes>"
      ]
     },
     "metadata": {},
     "output_type": "display_data"
    },
    {
     "name": "stdout",
     "output_type": "stream",
     "text": [
      "Skewness: -0.01\n",
      "No, the distribution does not have a pronounced long tail.\n"
     ]
    }
   ],
   "source": [
    "import matplotlib.pyplot as plt\n",
    "plt.figure(figsize=(8, 5))\n",
    "small_df['fuel_efficiency_mpg'].hist(bins=50)\n",
    "plt.xlabel('Fuel Efficiency (mpg)')\n",
    "plt.ylabel('Frequency')\n",
    "plt.title('Distribution of Fuel Efficiency (mpg)')\n",
    "plt.show()\n",
    "\n",
    "# Check skewness\n",
    "skewness = small_df['fuel_efficiency_mpg'].skew()\n",
    "print(f\"Skewness: {skewness:.2f}\")\n",
    "\n",
    "if skewness > 1:\n",
    "    print(\"Yes, the distribution has a long right tail (positively skewed).\")\n",
    "elif skewness < -1:\n",
    "    print(\"Yes, the distribution has a long left tail (negatively skewed).\")\n",
    "else:\n",
    "    print(\"No, the distribution does not have a pronounced long tail.\")"
   ]
  },
  {
   "cell_type": "markdown",
   "id": "79feaf52",
   "metadata": {},
   "source": [
    "Question 1\n",
    "\n",
    "There's one column with missing values. What is it?\n",
    "\n",
    "    'engine_displacement'\n",
    "    'horsepower'\n",
    "    'vehicle_weight'\n",
    "    'model_year'\n"
   ]
  },
  {
   "cell_type": "code",
   "execution_count": 6,
   "id": "6e693e80",
   "metadata": {},
   "outputs": [
    {
     "name": "stdout",
     "output_type": "stream",
     "text": [
      "Column(s) with missing values: ['horsepower']\n"
     ]
    }
   ],
   "source": [
    "# Check which column in small_df has missing values\n",
    "missing_counts = small_df.isnull().sum()\n",
    "missing_column = missing_counts[missing_counts > 0].index.tolist()\n",
    "print(\"Column(s) with missing values:\", missing_column)"
   ]
  },
  {
   "cell_type": "markdown",
   "id": "186133da",
   "metadata": {},
   "source": [
    "Question 2\n",
    "\n",
    "What's the median (50% percentile) for variable 'horsepower'?\n",
    "\n",
    "    49\n",
    "    99\n",
    "    149\n",
    "    199\n",
    "\n"
   ]
  },
  {
   "cell_type": "code",
   "execution_count": 7,
   "id": "82666ab6",
   "metadata": {},
   "outputs": [
    {
     "name": "stdout",
     "output_type": "stream",
     "text": [
      "Median horsepower: 149\n"
     ]
    }
   ],
   "source": [
    "median_horsepower = small_df['horsepower'].median()\n",
    "print(f\"Median horsepower: {median_horsepower:.0f}\")"
   ]
  },
  {
   "cell_type": "markdown",
   "id": "99fa9bbd",
   "metadata": {},
   "source": [
    "Prepare and split the dataset\n",
    "\n",
    "    Shuffle the dataset (the filtered one you created above), use seed 42.\n",
    "    Split your data in train/val/test sets, with 60%/20%/20% distribution.\n",
    "\n",
    "Use the same code as in the lectures"
   ]
  },
  {
   "cell_type": "code",
   "execution_count": 93,
   "id": "951d938c",
   "metadata": {},
   "outputs": [
    {
     "name": "stdout",
     "output_type": "stream",
     "text": [
      "9704\n",
      "1940 1940 5824\n",
      "Train set size: 5824\n",
      "Validation set size: 1940\n",
      "Test set size: 1940\n"
     ]
    }
   ],
   "source": [
    "import numpy as np\n",
    "np.random.seed(42)\n",
    "n = len(small_df)\n",
    "print(n)\n",
    "idx = np.arange(n)\n",
    "\n",
    "np.random.shuffle(idx)\n",
    "\n",
    "n_val = int(0.2 * n)\n",
    "n_test = int(0.2 * n)\n",
    "n_train = n - n_val - n_test\n",
    "print(n_val, n_test, n_train)\n",
    "\n",
    "\n",
    "\n",
    "shuffled_df = small_df.iloc[idx]\n",
    "df_train = shuffled_df.iloc[:n_train]\n",
    "df_val = shuffled_df.iloc[n_train:n_train + n_val]\n",
    "df_test = shuffled_df.iloc[n_train + n_val:]\n",
    "\n",
    "\n",
    "print(f\"Train set size: {len(df_train)}\")\n",
    "print(f\"Validation set size: {len(df_val)}\")\n",
    "print(f\"Test set size: {len(df_test)}\")"
   ]
  },
  {
   "cell_type": "markdown",
   "id": "54c968d6",
   "metadata": {},
   "source": [
    "Question 3\n",
    "\n",
    "    We need to deal with missing values for the column from Q1.\n",
    "    We have two options: fill it with 0 or with the mean of this variable.\n",
    "    Try both options. For each, train a linear regression model without regularization using the code from the lessons.\n",
    "    For computing the mean, use the training only!\n",
    "    Use the validation dataset to evaluate the models and compare the RMSE of each option.\n",
    "    Round the RMSE scores to 2 decimal digits using round(score, 2)\n",
    "    Which option gives better RMSE?\n",
    "\n",
    "Options:\n",
    "\n",
    "    With 0\n",
    "    With mean\n",
    "    Both are equally good\n"
   ]
  },
  {
   "cell_type": "code",
   "execution_count": 94,
   "id": "93c2137f",
   "metadata": {},
   "outputs": [
    {
     "name": "stdout",
     "output_type": "stream",
     "text": [
      "RMSE (fill with 0): 0.52\n",
      "RMSE (fill with mean): 0.46\n",
      "Filling with mean gives better RMSE.\n"
     ]
    }
   ],
   "source": [
    "from sklearn.linear_model import LinearRegression\n",
    "from sklearn.metrics import root_mean_squared_error\n",
    "import numpy as np\n",
    "\n",
    "# Option 1: Fill missing 'horsepower' with 0\n",
    "train_0 = df_train.copy()\n",
    "val_0 = df_val.copy()\n",
    "train_0['horsepower'] = train_0['horsepower'].fillna(0)\n",
    "val_0['horsepower'] = val_0['horsepower'].fillna(0)\n",
    "\n",
    "features = ['engine_displacement', 'horsepower', 'vehicle_weight', 'model_year']\n",
    "target = 'fuel_efficiency_mpg'\n",
    "\n",
    "lr_0 = LinearRegression()\n",
    "lr_0.fit(train_0[features], train_0[target])\n",
    "val_pred_0 = lr_0.predict(val_0[features])\n",
    "rmse_0 = root_mean_squared_error(val_0[target], val_pred_0)\n",
    "\n",
    "# Option 2: Fill missing 'horsepower' with mean (from train only)\n",
    "hp_mean = df_train['horsepower'].mean()\n",
    "train_mean = df_train.copy()\n",
    "val_mean = df_val.copy()\n",
    "train_mean['horsepower'] = train_mean['horsepower'].fillna(hp_mean)\n",
    "val_mean['horsepower'] = val_mean['horsepower'].fillna(hp_mean)\n",
    "\n",
    "lr_mean = LinearRegression()\n",
    "lr_mean.fit(train_mean[features], train_mean[target])\n",
    "val_pred_mean = lr_mean.predict(val_mean[features])\n",
    "rmse_mean = root_mean_squared_error(val_mean[target], val_pred_mean)\n",
    "\n",
    "print(\"RMSE (fill with 0):\", round(rmse_0, 2))\n",
    "print(\"RMSE (fill with mean):\", round(rmse_mean, 2))\n",
    "\n",
    "if rmse_0 < rmse_mean:\n",
    "    print(\"Filling with 0 gives better RMSE.\")\n",
    "elif rmse_mean < rmse_0:\n",
    "    print(\"Filling with mean gives better RMSE.\")\n",
    "else:\n",
    "    print(\"Both options give the same RMSE.\")"
   ]
  },
  {
   "cell_type": "markdown",
   "id": "72a74113",
   "metadata": {},
   "source": [
    "Question 4\n",
    "\n",
    "    Now let's train a regularized linear regression.\n",
    "    For this question, fill the NAs with 0.\n",
    "    Try different values of r from this list: [0, 0.01, 0.1, 1, 5, 10, 100].\n",
    "    Use RMSE to evaluate the model on the validation dataset.\n",
    "    Round the RMSE scores to 2 decimal digits.\n",
    "    Which r gives the best RMSE?\n",
    "\n",
    "If multiple options give the same best RMSE, select the smallest r.\n",
    "\n",
    "Options:\n",
    "\n",
    "    0\n",
    "    0.01\n",
    "    1\n",
    "    10\n",
    "    100\n"
   ]
  },
  {
   "cell_type": "code",
   "execution_count": 95,
   "id": "7c16a370",
   "metadata": {},
   "outputs": [
    {
     "name": "stdout",
     "output_type": "stream",
     "text": [
      "val 3.5824935241899696\n",
      "val 0.5173782638831882\n",
      "0.01 0.52\n",
      "val 0.5171115525771552\n",
      "0.1 0.52\n",
      "val 0.5187525130701618\n",
      "1 0.52\n",
      "val 0.5222348802092982\n",
      "5 0.52\n",
      "val 0.5228916092823513\n",
      "10 0.52\n",
      "val 0.5229812979636571\n",
      "100 0.52\n",
      "RMSE scores: {0: [3.58, 0], 0.01: [0.52, 0.01], 0.1: [0.52, 0.1], 1: [0.52, 1], 5: [0.52, 5], 10: [0.52, 10], 100: [0.52, 100]}\n",
      "Best r: 0.01\n"
     ]
    }
   ],
   "source": [
    "def train_linear_regression_reg(X, y, r=0.0):\n",
    "    ones = np.ones(X.shape[0])\n",
    "    X = np.column_stack([ones, X])\n",
    "\n",
    "    XTX = X.T.dot(X)\n",
    "    reg = r * np.eye(XTX.shape[0])\n",
    "    XTX = XTX + reg\n",
    "\n",
    "    XTX_inv = np.linalg.inv(XTX)\n",
    "    w = XTX_inv.dot(X.T).dot(y)\n",
    "    \n",
    "    return w[0], w[1:]\n",
    "\n",
    "\n",
    "\n",
    "r_values = [0, 0.01, 0.1, 1, 5, 10, 100]\n",
    "rmse_scores = []\n",
    "\n",
    "X_train = train_0[features]\n",
    "y_train = train_0[target]\n",
    "X_val = val_0[features]\n",
    "y_val = val_0[target]\n",
    "\n",
    "for r in r_values:\n",
    "    w0,w = train_linear_regression_reg(X_train, y_train, r)\n",
    "    y_pred = w0 + X_train.dot(w)\n",
    "    rmse = root_mean_squared_error(y_val, val_pred)\n",
    "    print('val', rmse)\n",
    "    \n",
    "    val_pred = w0 + X_val.dot(w)\n",
    "    \n",
    "    \n",
    "    varrr = [round(rmse, 2), r]\n",
    "    rmse_scores.append(varrr)\n",
    "    if(rmse<0.53):\n",
    "        print(r,round(rmse, 2))\n",
    "\n",
    "best_rmse = min(rmse_scores)\n",
    "best_r_indices = [i for i, score in enumerate(rmse_scores) if score == best_rmse]\n",
    "best_r = r_values[min(best_r_indices)]\n",
    "\n",
    "print(\"RMSE scores:\", dict(zip(r_values, rmse_scores)))\n",
    "print(\"Best r:\", best_r)\n"
   ]
  },
  {
   "cell_type": "markdown",
   "id": "e17f3c67",
   "metadata": {},
   "source": [
    "Question 5\n",
    "\n",
    "    We used seed 42 for splitting the data. Let's find out how selecting the seed influences our score.\n",
    "    Try different seed values: [0, 1, 2, 3, 4, 5, 6, 7, 8, 9].\n",
    "    For each seed, do the train/validation/test split with 60%/20%/20% distribution.\n",
    "    Fill the missing values with 0 and train a model without regularization.\n",
    "    For each seed, evaluate the model on the validation dataset and collect the RMSE scores.\n",
    "    What's the standard deviation of all the scores? To compute the standard deviation, use np.std.\n",
    "    Round the result to 3 decimal digits (round(std, 3))\n",
    "\n",
    "What's the value of std?\n",
    "\n",
    "    0.001\n",
    "    0.006\n",
    "    0.060\n",
    "    0.600\n"
   ]
  },
  {
   "cell_type": "code",
   "execution_count": 96,
   "id": "5731e440",
   "metadata": {},
   "outputs": [],
   "source": [
    "\n",
    "\n",
    "def train_linear_regression(X, y):\n",
    "    ones = np.ones(X.shape[0])\n",
    "    X = np.column_stack([ones, X])\n",
    "\n",
    "    XTX = X.T.dot(X)\n",
    "    XTX_inv = np.linalg.inv(XTX)\n",
    "    w = XTX_inv.dot(X.T).dot(y)\n",
    "    \n",
    "    return w[0], w[1:]\n",
    "\n"
   ]
  },
  {
   "cell_type": "code",
   "execution_count": null,
   "id": "e99f966d",
   "metadata": {},
   "outputs": [
    {
     "name": "stdout",
     "output_type": "stream",
     "text": [
      "Seed: 0\n",
      "Seed: 1\n",
      "Seed: 2\n",
      "Seed: 3\n",
      "Seed: 4\n",
      "Seed: 5\n",
      "Seed: 6\n",
      "Seed: 7\n",
      "Seed: 8\n",
      "Seed: 9\n",
      "Standard deviation of RMSE scores: 0.007\n"
     ]
    }
   ],
   "source": [
    "seeds = [0, 1, 2, 3, 4, 5, 6, 7, 8, 9]\n",
    "rmse_list = []\n",
    "\n",
    "\n",
    "for seed in seeds:\n",
    "    print(\"Seed:\", seed)\n",
    "    np.random.seed(seed)\n",
    "\n",
    "    n = len(df)\n",
    "\n",
    "    n_val = int(0.2 * n)\n",
    "    n_test = int(0.2 * n)\n",
    "    n_train = n - (n_val + n_test)\n",
    "\n",
    "    idx = np.arange(n)\n",
    "    np.random.shuffle(idx)\n",
    "\n",
    "    df_shuffled = df.iloc[idx]\n",
    "\n",
    "    df_train = df_shuffled.iloc[:n_train].copy()\n",
    "    df_val = df_shuffled.iloc[n_train:n_train+n_val].copy()\n",
    "    df_test = df_shuffled.iloc[n_train+n_val:].copy()\n",
    "\n",
    "\n",
    "\n",
    "    \n",
    "\n",
    "    train_0 = df_train.copy()\n",
    "    val_0 = df_val.copy()\n",
    "    train_0['horsepower'] = train_0['horsepower'].fillna(0)\n",
    "    val_0['horsepower'] = val_0['horsepower'].fillna(0)\n",
    "    \n",
    "    X_train = train_0[features]\n",
    "    y_train = train_0[target]\n",
    "    X_val = val_0[features]\n",
    "    y_val = val_0[target]\n",
    "    \n",
    "    w0,w = train_linear_regression(X_train, y_train)\n",
    "    val_pred = w0 + X_val.dot(w)\n",
    "    rmse = root_mean_squared_error(y_val, val_pred)\n",
    "    rmse_list.append(rmse)\n",
    "\n",
    "std = round(np.std(rmse_list), 3)\n",
    "print(\"Standard deviation of RMSE scores:\", std)"
   ]
  },
  {
   "cell_type": "markdown",
   "id": "036baa22",
   "metadata": {},
   "source": [
    "Question 6\n",
    "\n",
    "    Split the dataset like previously, use seed 9.\n",
    "    Combine train and validation datasets.\n",
    "    Fill the missing values with 0 and train a model with r=0.001.\n",
    "    What's the RMSE on the test dataset?\n",
    "\n",
    "Options:\n",
    "\n",
    "    0.15\n",
    "    0.515\n",
    "    5.15\n",
    "    51.5\n"
   ]
  },
  {
   "cell_type": "code",
   "execution_count": 99,
   "id": "dcb7e5c5",
   "metadata": {},
   "outputs": [
    {
     "name": "stdout",
     "output_type": "stream",
     "text": [
      "Test RMSE (r=0.001, fill 0): 0.516\n"
     ]
    }
   ],
   "source": [
    "# Split the dataset with seed 9\n",
    "np.random.seed(9)\n",
    "\n",
    "n = len(df)\n",
    "\n",
    "n_val = int(0.2 * n)\n",
    "n_test = int(0.2 * n)\n",
    "n_train = n - (n_val + n_test)\n",
    "\n",
    "idx = np.arange(n)\n",
    "np.random.shuffle(idx)\n",
    "\n",
    "df_shuffled = df.iloc[idx]\n",
    "\n",
    "df_train = df_shuffled.iloc[:n_train].copy()\n",
    "df_val = df_shuffled.iloc[n_train:n_train+n_val].copy()\n",
    "df_test = df_shuffled.iloc[n_train+n_val:].copy()\n",
    "\n",
    "# Combine train and validation datasets\n",
    "train_val = pd.concat([df_train, df_val]).reset_index(drop=True)\n",
    "\n",
    "# Fill missing values with 0\n",
    "train_val_0 = train_val.copy()\n",
    "test_0 = df_test.copy()\n",
    "train_val_0['horsepower'] = train_val_0['horsepower'].fillna(0)\n",
    "test_0['horsepower'] = test_0['horsepower'].fillna(0)\n",
    "\n",
    "# Train Ridge model with r=0.001\n",
    "w0,w = train_linear_regression_reg(train_val_0[features], train_val_0[target], 0.001)\n",
    "\n",
    "# Predict and calculate RMSE on test set\n",
    "test_pred =  w0 + (test_0[features]).dot(w)\n",
    "test_rmse = root_mean_squared_error(test_0[target], test_pred)\n",
    "print(\"Test RMSE (r=0.001, fill 0):\", round(test_rmse, 3))"
   ]
  }
 ],
 "metadata": {
  "kernelspec": {
   "display_name": "dataTalks",
   "language": "python",
   "name": "python3"
  },
  "language_info": {
   "codemirror_mode": {
    "name": "ipython",
    "version": 3
   },
   "file_extension": ".py",
   "mimetype": "text/x-python",
   "name": "python",
   "nbconvert_exporter": "python",
   "pygments_lexer": "ipython3",
   "version": "3.12.11"
  }
 },
 "nbformat": 4,
 "nbformat_minor": 5
}
